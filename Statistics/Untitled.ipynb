{
 "cells": [
  {
   "cell_type": "markdown",
   "id": "4b9396d6-9539-404e-8b4c-7dc2287a45cf",
   "metadata": {},
   "source": [
    "# Z Score implementation and finding outliers\n",
    "The Z-score is a statistical measure used to determine how many standard deviations an element is from the mean. It is calculated as the difference between the element and the mean divided by the standard deviation. In Python, you can calculate the Z-score using the following formula:\n",
    "\n",
    "z_score = (x - mean) / std\n",
    "\n",
    "# Outliers, in the context of data analysis and statistics, refer to data points or observations that significantly deviate from the rest of the dataset. These data points are considered unusual, abnormal, or different from the majority of the data. Outliers can impact statistical analyses, affect measures of central tendency like the mean and median, and influence the results of data modeling and predictions.\n",
    "\n",
    "# n the field of data science and machine learning, detecting and handling outliers is crucial to ensure the accuracy and reliability of data analysis. Outliers can arise due to various reasons such as errors in data collection, measurement inaccuracies, natural variability in the data, or intentional introduction for testing statistical methods' robustness. Detecting outliers involves using statistical methods like Z-scores, Interquartile Range (IQR), Tukey's Fences, and visualization tools like box plots and scatter plots to identify and address these anomalous data points."
   ]
  },
  {
   "cell_type": "code",
   "execution_count": 18,
   "id": "24040492-2fa7-4976-898e-977a549c813e",
   "metadata": {},
   "outputs": [],
   "source": [
    "import numpy as np\n",
    "import matplotlib.pyplot as plt\n",
    "%matplotlib inline"
   ]
  },
  {
   "cell_type": "code",
   "execution_count": 10,
   "id": "f7454af1-7fa0-4ea9-b420-3009148a7a1e",
   "metadata": {},
   "outputs": [],
   "source": [
    "dataset = [11,10,12,13,13,14,100,111,110,11,44,33,22,11,5]"
   ]
  },
  {
   "cell_type": "code",
   "execution_count": 16,
   "id": "d0b636cc-1f94-4cd0-8f9c-cbe77f68d1de",
   "metadata": {},
   "outputs": [],
   "source": [
    "def detect_outliers(data):\n",
    "    threshold = 2\n",
    "    data_array = np.array(data)\n",
    "    mean = np.mean(data_array)\n",
    "    sd = np.std(data_array)\n",
    "\n",
    "    for data_point in data_array:\n",
    "        zScore = (data_point - mean) / sd\n",
    "        if np.abs(zScore) > threshold:\n",
    "            outliers.append(data_point)\n",
    "\n",
    "    return outliers\n"
   ]
  },
  {
   "cell_type": "code",
   "execution_count": 17,
   "id": "9c0fa0aa-19f8-4ab9-8dcb-feb8388e2234",
   "metadata": {},
   "outputs": [
    {
     "name": "stdout",
     "output_type": "stream",
     "text": [
      "[111, 110]\n"
     ]
    }
   ],
   "source": [
    "output = detect_outliers(dataset)\n",
    "print(output)"
   ]
  },
  {
   "cell_type": "code",
   "execution_count": 21,
   "id": "375928c1-bb3c-4b0d-900b-2c2a2ad9be48",
   "metadata": {},
   "outputs": [
    {
     "data": {
      "text/plain": [
       "(array([9., 1., 1., 1., 0., 0., 0., 0., 1., 2.]),\n",
       " array([  5. ,  15.6,  26.2,  36.8,  47.4,  58. ,  68.6,  79.2,  89.8,\n",
       "        100.4, 111. ]),\n",
       " <BarContainer object of 10 artists>)"
      ]
     },
     "execution_count": 21,
     "metadata": {},
     "output_type": "execute_result"
    },
    {
     "data": {
      "image/png": "[encoded data removed]",
      "text/plain": [
       "<Figure size 640x480 with 1 Axes>"
      ]
     },
     "metadata": {},
     "output_type": "display_data"
    }
   ],
   "source": [
    "plt.hist(dataset)"
   ]
  },
  {
   "cell_type": "code",
   "execution_count": null,
   "id": "3401cc0f-1651-4b76-9df2-de49ac7595f2",
   "metadata": {},
   "outputs": [],
   "source": []
  }
 ],
 "metadata": {
  "kernelspec": {
   "display_name": "Python 3 (ipykernel)",
   "language": "python",
   "name": "python3"
  },
  "language_info": {
   "codemirror_mode": {
    "name": "ipython",
    "version": 3
   },
   "file_extension": ".py",
   "mimetype": "text/x-python",
   "name": "python",
   "nbconvert_exporter": "python",
   "pygments_lexer": "ipython3",
   "version": "3.12.0"
  }
 },
 "nbformat": 4,
 "nbformat_minor": 5
}
