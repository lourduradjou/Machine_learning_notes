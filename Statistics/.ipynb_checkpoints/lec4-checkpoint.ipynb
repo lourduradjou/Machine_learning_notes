{
 "cells": [
  {
   "cell_type": "markdown",
   "id": "4b9396d6-9539-404e-8b4c-7dc2287a45cf",
   "metadata": {},
   "source": [
    "# Z Score implementation and finding outliers\n",
    "\n",
    "The Z-score is a statistical measure used to determine how many standard deviations an element is from the mean. It is calculated as the difference between the element and the mean divided by the standard deviation. In Python, you can calculate the Z-score using the following formula:\n",
    "\n",
    "z_score = (x - mean) / std\n",
    "\n",
    " Outliers, in the context of data analysis and statistics, refer to data points or observations that significantly deviate from the rest of the dataset. These data points are considered unusual, abnormal, or different from the majority of the data. Outliers can impact statistical analyses, affect measures of central tendency like the mean and median, and influence the results of data modeling and predictions.\n",
    "\n",
    " n the field of data science and machine learning, detecting and handling outliers is crucial to ensure the accuracy and reliability of data analysis. Outliers can arise due to various reasons such as errors in data collection, measurement inaccuracies, natural variability in the data, or intentional introduction for testing statistical methods' robustness. Detecting outliers involves using statistical methods like Z-scores, Interquartile Range (IQR), Tukey's Fences, and visualization tools like box plots and scatter plots to identify and address these anomalous data points."
   ]
  },
  {
   "cell_type": "code",
   "execution_count": 7,
   "id": "24040492-2fa7-4976-898e-977a549c813e",
   "metadata": {},
   "outputs": [],
   "source": [
    "import numpy as np\n",
    "import matplotlib.pyplot as plt\n",
    "%matplotlib inline"
   ]
  },
  {
   "cell_type": "code",
   "execution_count": 8,
   "id": "f7454af1-7fa0-4ea9-b420-3009148a7a1e",
   "metadata": {},
   "outputs": [],
   "source": [
    "dataset = [11,10,12,13,13,14,100,111,110,11,44,33,22,11,5]"
   ]
  },
  {
   "cell_type": "code",
   "execution_count": 20,
   "id": "d0b636cc-1f94-4cd0-8f9c-cbe77f68d1de",
   "metadata": {},
   "outputs": [],
   "source": [
    "outliers = []\n",
    "def detect_outliers(data):\n",
    "    threshold = 2\n",
    "    data_array = np.array(data)\n",
    "    mean = np.mean(data_array)\n",
    "    sd = np.std(data_array)\n",
    "\n",
    "    for data_point in data_array:\n",
    "        zScore = (data_point - mean) / sd\n",
    "        if np.abs(zScore) > threshold:\n",
    "            outliers.append(data_point)\n",
    "\n",
    "    return outliers\n"
   ]
  },
  {
   "cell_type": "code",
   "execution_count": 21,
   "id": "9c0fa0aa-19f8-4ab9-8dcb-feb8388e2234",
   "metadata": {},
   "outputs": [
    {
     "name": "stdout",
     "output_type": "stream",
     "text": [
      "[110, 111]\n"
     ]
    }
   ],
   "source": [
    "output = detect_outliers(dataset)\n",
    "print(output)"
   ]
  },
  {
   "cell_type": "code",
   "execution_count": 22,
   "id": "375928c1-bb3c-4b0d-900b-2c2a2ad9be48",
   "metadata": {},
   "outputs": [
    {
     "data": {
      "text/plain": [
       "(array([9., 1., 1., 1., 0., 0., 0., 0., 1., 2.]),\n",
       " array([  5. ,  15.6,  26.2,  36.8,  47.4,  58. ,  68.6,  79.2,  89.8,\n",
       "        100.4, 111. ]),\n",
       " <BarContainer object of 10 artists>)"
      ]
     },
     "execution_count": 22,
     "metadata": {},
     "output_type": "execute_result"
    },
    {
     "data": {
      "image/png": "[encoded data removed]",
      "text/plain": [
       "<Figure size 640x480 with 1 Axes>"
      ]
     },
     "metadata": {},
     "output_type": "display_data"
    }
   ],
   "source": [
    "plt.hist(dataset)"
   ]
  },
  {
   "cell_type": "markdown",
   "id": "e9be6896-2213-42d3-a847-09c776cf978a",
   "metadata": {},
   "source": [
    "# InterQuartile Range\n",
    "\n",
    "The interquartile range (IQR) is a statistical measure of variability that describes the spread of data within a dataset. It is calculated as the difference between the third quartile (Q3) and the first quartile (Q1) of the data. The IQR is resistant to outliers and provides valuable information about the middle 50% of the data, making it a robust measure for understanding the variability within a dataset.\n",
    "\n",
    "Key points about the interquartile range from the provided sources include:\n",
    "Definition: The IQR divides the data into quartiles, with Q1 representing the 25th percentile and Q3 representing the 75th percentile. It is calculated as the difference between Q3 and Q1.\n",
    "\n",
    "Calculation: To calculate the IQR, the data is first sorted in ascending order. Q1 and Q3 are determined, and the IQR is obtained by subtracting Q1 from Q3.\n",
    "Importance: The IQR is important as it is less sensitive to outliers compared to the range. It helps identify outliers and provides insights into the spread and variability of the dataset.\n",
    "\n",
    "Usage: The IQR is commonly used in data analysis to understand the central tendency and variability of the data, especially in cases where outliers may skew traditional measures like the mean and standard deviation."
   ]
  },
  {
   "cell_type": "code",
   "execution_count": 24,
   "id": "c0e4d6ef-12e6-4006-b968-b8deedf3d7e6",
   "metadata": {},
   "outputs": [
    {
     "name": "stdout",
     "output_type": "stream",
     "text": [
      "[5, 10, 11, 11, 11, 12, 13, 13, 14, 22, 33, 44]\n"
     ]
    }
   ],
   "source": [
    "#IQR\n",
    "# Steps:\n",
    "#     sort the data\n",
    "#     calculate Q1 and Q3\n",
    "#     IQR(Q3 - Q1)\n",
    "#     Find the lower fence(Q1 - 1.5(iqr))\n",
    "#     Find the upper fence(Q3 + 1.5(iqr))\n",
    "\n",
    "dataset = sorted(dataset)\n",
    "# //sort the dataset\n",
    "#calculate q1 and q3\n",
    "q1, q3 = np.percentile(dataset, [25,75])\n",
    "# print(q1, q3)\n",
    "\n",
    "IQR = (q3 - q1)\n",
    "\n",
    "#find lower fence and upper fence\n",
    "lower_fence = (q1 - 1.5 * IQR)\n",
    "upper_fence = (q3 + 1.5 * IQR)\n",
    "\n",
    "# print(lower_fence, upper_fence)\n",
    "#remove the outliers from the dataset\n",
    "arrWithoutOutliers = []\n",
    "for i in dataset:\n",
    "    if lower_fence <= i <= upper_fence:\n",
    "        arrWithoutOutliers.append(i)\n",
    "\n",
    "print(arrWithoutOutliers)\n"
   ]
  },
  {
   "cell_type": "code",
   "execution_count": 36,
   "id": "28b60f00-57c2-4cb8-b715-394836c41c4d",
   "metadata": {},
   "outputs": [
    {
     "data": {
      "text/plain": [
       "<Axes: >"
      ]
     },
     "execution_count": 36,
     "metadata": {},
     "output_type": "execute_result"
    },
    {
     "data": {
      "image/png": "[encoded data removed]",
      "text/plain": [
       "<Figure size 640x480 with 1 Axes>"
      ]
     },
     "metadata": {},
     "output_type": "display_data"
    }
   ],
   "source": [
    "import seaborn as sns \n",
    "import statistics \n",
    "median = statistics.median(dataset)\n",
    "\n",
    "boxPlotArr = [min(arrWithoutOutliers), q1, median, q3, max(arrWithoutOutliers)]\n",
    "\n",
    "#min q1 mean q3 max for to layout boxplot\n",
    "sns.boxplot(boxPlotArr, orient='h')"
   ]
  },
  {
   "cell_type": "code",
   "execution_count": null,
   "id": "891713a5-75ff-4b06-b24c-25abf62767de",
   "metadata": {},
   "outputs": [],
   "source": []
  }
 ],
 "metadata": {
  "kernelspec": {
   "display_name": "Python 3 (ipykernel)",
   "language": "python",
   "name": "python3"
  },
  "language_info": {
   "codemirror_mode": {
    "name": "ipython",
    "version": 3
   },
   "file_extension": ".py",
   "mimetype": "text/x-python",
   "name": "python",
   "nbconvert_exporter": "python",
   "pygments_lexer": "ipython3",
   "version": "3.12.0"
  }
 },
 "nbformat": 4,
 "nbformat_minor": 5
}
