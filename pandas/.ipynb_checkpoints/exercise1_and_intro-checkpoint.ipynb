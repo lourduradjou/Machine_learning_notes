{
 "cells": [
  {
   "cell_type": "markdown",
   "id": "cc3c86ac-810c-47fc-a68b-116a9fa28675",
   "metadata": {},
   "source": [
    "DataFrame is a 2-dimensional data structure designed for handling tabular data with multiple columns, \n",
    "while a Series is a 1-dimensional data structure used to represent a single column or row of data within a \n",
    "DataFrame or as a standalone data structure.\n",
    "\n"
   ]
  },
  {
   "cell_type": "code",
   "execution_count": 1,
   "id": "5b40717f-4381-41ec-93c1-0a91ee217df4",
   "metadata": {},
   "outputs": [
    {
     "name": "stdout",
     "output_type": "stream",
     "text": [
      "0    a\n",
      "1    b\n",
      "2    c\n",
      "3    d\n",
      "4    e\n",
      "5    f\n",
      "dtype: object\n",
      "0    1\n",
      "1    2\n",
      "2    3\n",
      "3    4\n",
      "4    5\n",
      "5    6\n",
      "6    7\n",
      "7    8\n",
      "8    9\n",
      "dtype: int32\n",
      "A    0\n",
      "B    1\n",
      "C    2\n",
      "dtype: int64\n"
     ]
    }
   ],
   "source": [
    "import numpy as np\n",
    "import pandas as pd\n",
    "List = list(\"abcdef\")\n",
    "numpyArr = np.arange(1, 10)\n",
    "dictArr = {\"A\" : 0, \"B\" : 1, \"C\" : 2}\n",
    "\n",
    "series1 = pd.Series(List)\n",
    "series2 = pd.Series(numpyArr)\n",
    "series3 = pd.Series(dictArr)\n",
    "\n",
    "print(series1)\n",
    "print(series2)\n",
    "print(series3)"
   ]
  },
  {
   "cell_type": "code",
   "execution_count": 14,
   "id": "b47c14b9-e987-4f6c-b194-916f0943d237",
   "metadata": {},
   "outputs": [
    {
     "data": {
      "text/html": [
       "<div>\n",
       "<style scoped>\n",
       "    .dataframe tbody tr th:only-of-type {\n",
       "        vertical-align: middle;\n",
       "    }\n",
       "\n",
       "    .dataframe tbody tr th {\n",
       "        vertical-align: top;\n",
       "    }\n",
       "\n",
       "    .dataframe thead th {\n",
       "        text-align: right;\n",
       "    }\n",
       "</style>\n",
       "<table border=\"1\" class=\"dataframe\">\n",
       "  <thead>\n",
       "    <tr style=\"text-align: right;\">\n",
       "      <th></th>\n",
       "      <th>col1</th>\n",
       "      <th>col2</th>\n",
       "    </tr>\n",
       "  </thead>\n",
       "  <tbody>\n",
       "    <tr>\n",
       "      <th>0</th>\n",
       "      <td>a</td>\n",
       "      <td>0</td>\n",
       "    </tr>\n",
       "    <tr>\n",
       "      <th>1</th>\n",
       "      <td>b</td>\n",
       "      <td>1</td>\n",
       "    </tr>\n",
       "    <tr>\n",
       "      <th>2</th>\n",
       "      <td>c</td>\n",
       "      <td>2</td>\n",
       "    </tr>\n",
       "    <tr>\n",
       "      <th>3</th>\n",
       "      <td>d</td>\n",
       "      <td>3</td>\n",
       "    </tr>\n",
       "    <tr>\n",
       "      <th>4</th>\n",
       "      <td>e</td>\n",
       "      <td>4</td>\n",
       "    </tr>\n",
       "  </tbody>\n",
       "</table>\n",
       "</div>"
      ],
      "text/plain": [
       "  col1  col2\n",
       "0    a     0\n",
       "1    b     1\n",
       "2    c     2\n",
       "3    d     3\n",
       "4    e     4"
      ]
     },
     "execution_count": 14,
     "metadata": {},
     "output_type": "execute_result"
    }
   ],
   "source": [
    "#combining two series to make dataframes\n",
    "ser1 = pd.Series(list('abcde'))\n",
    "ser2 = pd.Series(np.arange(5))\n",
    "\n",
    "# df = pd.DataFrame(ser1, ser2).reset_index() #reset_index() adds that index column extra\n",
    "# df.head(5)\n",
    "\n",
    "#to name the col we can use dictionary\n",
    "ser_df = pd.DataFrame({\"col1\":ser1, \"col2\":ser2})\n",
    "ser_df.head(5)\n",
    "# using pandas concat\n",
    "ser_df = pd.concat([ser1, ser2], axis = 1)\n",
    "ser_df.head(5)"
   ]
  },
  {
   "cell_type": "code",
   "execution_count": 20,
   "id": "8fc6e97b-e290-48f5-bc77-2fbdbe920a4e",
   "metadata": {},
   "outputs": [
    {
     "name": "stdout",
     "output_type": "stream",
     "text": [
      "0    1\n",
      "1    2\n",
      "2    3\n",
      "dtype: int64\n"
     ]
    }
   ],
   "source": [
    " # How to get the items of series A not present in series B?\n",
    "# input\n",
    "ser1 = pd.Series([1, 2, 3, 4, 5])\n",
    "ser2 = pd.Series([4, 5, 6, 7, 8])\n",
    "ser1 = ser1[~ser1.isin(ser2)]\n",
    "print(ser1)"
   ]
  }
 ],
 "metadata": {
  "kernelspec": {
   "display_name": "Python 3 (ipykernel)",
   "language": "python",
   "name": "python3"
  },
  "language_info": {
   "codemirror_mode": {
    "name": "ipython",
    "version": 3
   },
   "file_extension": ".py",
   "mimetype": "text/x-python",
   "name": "python",
   "nbconvert_exporter": "python",
   "pygments_lexer": "ipython3",
   "version": "3.12.0"
  }
 },
 "nbformat": 4,
 "nbformat_minor": 5
}
