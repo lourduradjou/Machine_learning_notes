{
 "cells": [
  {
   "cell_type": "code",
   "execution_count": 1,
   "id": "249c664d-f45d-47c5-90f0-7f3357e625ef",
   "metadata": {},
   "outputs": [
    {
     "name": "stdout",
     "output_type": "stream",
     "text": [
      "1.26.4\n"
     ]
    }
   ],
   "source": [
    "import numpy as np\n",
    "print(np.__version__)"
   ]
  },
  {
   "cell_type": "code",
   "execution_count": 3,
   "id": "b3865574-02db-4b0c-aac0-58da5d8b750c",
   "metadata": {},
   "outputs": [
    {
     "data": {
      "text/plain": [
       "array([0, 1, 2, 3, 4, 5, 6, 7, 8, 9])"
      ]
     },
     "execution_count": 3,
     "metadata": {},
     "output_type": "execute_result"
    }
   ],
   "source": [
    "x = np.arange(10)\n",
    "x"
   ]
  },
  {
   "cell_type": "markdown",
   "id": "095350ae-741d-4da7-aa0e-d38e1dbc2311",
   "metadata": {},
   "source": [
    "first parameter is just matrix dimention and second one the value in it simply \n",
    "use print(np.info(np.full)) to view full describtion"
   ]
  },
  {
   "cell_type": "code",
   "execution_count": 5,
   "id": "12950b8c-8229-4855-ae9a-9bcbd820672f",
   "metadata": {},
   "outputs": [
    {
     "data": {
      "text/plain": [
       "array([[ True,  True,  True],\n",
       "       [ True,  True,  True],\n",
       "       [ True,  True,  True]])"
      ]
     },
     "execution_count": 5,
     "metadata": {},
     "output_type": "execute_result"
    }
   ],
   "source": [
    "np.full((3,3), True)"
   ]
  },
  {
   "cell_type": "code",
   "execution_count": 6,
   "id": "aff51e6b-2eda-4d52-8715-ccaccb9ec8a6",
   "metadata": {},
   "outputs": [
    {
     "data": {
      "text/plain": [
       "array([1, 3, 5, 7, 9])"
      ]
     },
     "execution_count": 6,
     "metadata": {},
     "output_type": "execute_result"
    }
   ],
   "source": [
    "arr = np.arange(10)\n",
    "arr[arr % 2 == 1]"
   ]
  },
  {
   "cell_type": "code",
   "execution_count": 7,
   "id": "26900c4a-1e87-47c7-bd27-e11f5bd8d301",
   "metadata": {},
   "outputs": [
    {
     "name": "stdout",
     "output_type": "stream",
     "text": [
      "[ 0 -1  2 -1  4 -1  6 -1  8 -1]\n"
     ]
    }
   ],
   "source": [
    "arr = np.arange(10)\n",
    "arr[arr % 2 == 1] = -1\n",
    "print(arr)"
   ]
  },
  {
   "cell_type": "code",
   "execution_count": 8,
   "id": "016eaeb1-505f-4e89-8918-80b1aa98dbeb",
   "metadata": {},
   "outputs": [
    {
     "name": "stdout",
     "output_type": "stream",
     "text": [
      "Modified Array\n",
      "[0 0 2 0 4 0 6 0 8 0]\n",
      "Original Array\n",
      "[0 1 2 3 4 5 6 7 8 9]\n"
     ]
    }
   ],
   "source": [
    "#copy function usage to make changes in the array\n",
    "arr = np.arange(10)\n",
    "out = arr.copy()\n",
    "out[out % 2 == 1] = 0\n",
    "print('Modified Array')\n",
    "print(out)\n",
    "print('Original Array')\n",
    "print(arr)"
   ]
  },
  {
   "cell_type": "code",
   "execution_count": 11,
   "id": "2e058b9a-864c-4497-89f3-70c4037cd926",
   "metadata": {},
   "outputs": [
    {
     "name": "stdout",
     "output_type": "stream",
     "text": [
      "[0 1 2 3 4 5 6 7 8 9]\n",
      "[0 1 2 3 4 5 6 7 8 9]\n"
     ]
    }
   ],
   "source": [
    "#reshape concept\n",
    "arr = np.arange(10)\n",
    "arr.reshape(2, 5)\n",
    "print(arr)\n",
    "\n",
    "#second one automatically would be decided properly if -1\n",
    "arr.reshape(2, -1)\n",
    "print(arr)"
   ]
  },
  {
   "cell_type": "code",
   "execution_count": 16,
   "id": "3d6a5f7e-fccc-4e14-83d8-cb88621b5780",
   "metadata": {},
   "outputs": [
    {
     "data": {
      "text/plain": [
       "array([[0, 1, 2, 3, 4],\n",
       "       [5, 6, 7, 8, 9],\n",
       "       [1, 1, 1, 1, 1],\n",
       "       [1, 1, 1, 1, 1]])"
      ]
     },
     "execution_count": 16,
     "metadata": {},
     "output_type": "execute_result"
    }
   ],
   "source": [
    "#stack two array vertically\n",
    "#arrays here is work in referrenced manner\n",
    "a = np.arange(10).reshape(2, -1)\n",
    "b = np.repeat(1, 10).reshape(2, 5)\n",
    "np.vstack([a,b])"
   ]
  },
  {
   "cell_type": "code",
   "execution_count": 17,
   "id": "3020afc6-879e-4051-8360-75aeb9a6eb2e",
   "metadata": {},
   "outputs": [
    {
     "data": {
      "text/plain": [
       "array([[0, 1, 2, 3, 4, 1, 1, 1, 1, 1],\n",
       "       [5, 6, 7, 8, 9, 1, 1, 1, 1, 1]])"
      ]
     },
     "execution_count": 17,
     "metadata": {},
     "output_type": "execute_result"
    }
   ],
   "source": [
    "#horizontal stacking\n",
    "np.hstack([a,b])"
   ]
  },
  {
   "cell_type": "code",
   "execution_count": 18,
   "id": "dea9d0df-498b-4f41-b934-d30381e42e24",
   "metadata": {},
   "outputs": [
    {
     "data": {
      "text/plain": [
       "array([1, 1, 1, 2, 2, 2, 3, 3, 3, 1, 2, 3, 1, 2, 3, 1, 2, 3])"
      ]
     },
     "execution_count": 18,
     "metadata": {},
     "output_type": "execute_result"
    }
   ],
   "source": [
    "#for axis 0, concatenation np.r_ used \n",
    "a = np.array([1,2,3])\n",
    "np.r_[np.repeat(a,3), np.tile(a, 3)]\n",
    "#repeat just repeats, and tile is simply repeat the arrays like a titled manner"
   ]
  },
  {
   "cell_type": "code",
   "execution_count": 23,
   "id": "174ff954-12ce-4a0c-82cb-4adf007915a0",
   "metadata": {},
   "outputs": [
    {
     "data": {
      "text/plain": [
       "array([2, 4])"
      ]
     },
     "execution_count": 23,
     "metadata": {},
     "output_type": "execute_result"
    }
   ],
   "source": [
    "#intersection of two arrays\n",
    "a = np.array([1,2,3,2,3,4,3,4,5,6])\n",
    "b = np.array([7,2,10,2,7,4,9,4,9,8])\n",
    "np.intersect1d(a, b)"
   ]
  },
  {
   "cell_type": "code",
   "execution_count": 21,
   "id": "0a5e67d6-4499-437f-bb1b-7089ebd6afb4",
   "metadata": {},
   "outputs": [
    {
     "data": {
      "text/plain": [
       "array([3, 5, 6])"
      ]
     },
     "execution_count": 21,
     "metadata": {},
     "output_type": "execute_result"
    }
   ],
   "source": [
    "#setdifference in numpy\n",
    "np.setdiff1d(a, b)\n"
   ]
  },
  {
   "cell_type": "code",
   "execution_count": 25,
   "id": "551ded17-b76a-4100-a48e-37906d2d318b",
   "metadata": {},
   "outputs": [
    {
     "data": {
      "text/plain": [
       "(array([1, 3, 5, 7], dtype=int64),)"
      ]
     },
     "execution_count": 25,
     "metadata": {},
     "output_type": "execute_result"
    }
   ],
   "source": [
    "#get the positions where elements of two arrays perfectly matches\n",
    "#both array size of dimension should be same to perform this operation\n",
    "np.where(a == b)"
   ]
  },
  {
   "cell_type": "code",
   "execution_count": 26,
   "id": "d5dc5f90-6494-46fd-a6b5-7c330955ff72",
   "metadata": {},
   "outputs": [
    {
     "data": {
      "text/plain": [
       "array([ 5,  6,  7,  8,  9, 10])"
      ]
     },
     "execution_count": 26,
     "metadata": {},
     "output_type": "execute_result"
    }
   ],
   "source": [
    "#extract specified numbers in a range of array values\n",
    "a = np.array([2, 3, 4, 5, 6, 7,  8, 9, 10, 13])\n",
    "a[(a >= 5) & (a <= 10)]\n"
   ]
  },
  {
   "cell_type": "code",
   "execution_count": 28,
   "id": "61e86823-d0b9-474c-9ce0-32eaad3e5eeb",
   "metadata": {},
   "outputs": [
    {
     "name": "stdout",
     "output_type": "stream",
     "text": [
      "[[0 1 2]\n",
      " [3 4 5]\n",
      " [6 7 8]]\n",
      "[[6 7 8]\n",
      " [3 4 5]\n",
      " [0 1 2]]\n",
      "[[0 1 2]\n",
      " [3 4 5]\n",
      " [6 7 8]]\n",
      "[[2 1 0]\n",
      " [5 4 3]\n",
      " [8 7 6]]\n"
     ]
    }
   ],
   "source": [
    "#reverse rows of a 2d array \n",
    "arr = np.arange(9).reshape(3,3)\n",
    "print(arr)\n",
    "print(arr[::-1, :])\n",
    "#reverse columns of a 2d array\n",
    "arr = np.arange(9).reshape(3,3)\n",
    "print(arr)\n",
    "print(arr[:, ::-1])"
   ]
  },
  {
   "cell_type": "code",
   "execution_count": 31,
   "id": "7a67ba07-795f-47d1-bb3e-a3ea6cc62835",
   "metadata": {},
   "outputs": [
    {
     "data": {
      "text/plain": [
       "array([[6.92393235, 9.71355047, 7.49169957],\n",
       "       [5.07713145, 6.31167535, 7.21526276],\n",
       "       [6.79288434, 8.6487118 , 8.08956384],\n",
       "       [5.62536545, 6.00995898, 6.96314815],\n",
       "       [9.1222164 , 6.70796787, 9.48598311]])"
      ]
     },
     "execution_count": 31,
     "metadata": {},
     "output_type": "execute_result"
    }
   ],
   "source": [
    "rand_arr = np.random.uniform(5, 10, size=(5,3))\n",
    "rand_arr"
   ]
  },
  {
   "cell_type": "code",
   "execution_count": null,
   "id": "4ab0027f-95c1-4423-8fb4-7540d0fc44e0",
   "metadata": {},
   "outputs": [],
   "source": []
  }
 ],
 "metadata": {
  "kernelspec": {
   "display_name": "Python 3 (ipykernel)",
   "language": "python",
   "name": "python3"
  },
  "language_info": {
   "codemirror_mode": {
    "name": "ipython",
    "version": 3
   },
   "file_extension": ".py",
   "mimetype": "text/x-python",
   "name": "python",
   "nbconvert_exporter": "python",
   "pygments_lexer": "ipython3",
   "version": "3.12.0"
  }
 },
 "nbformat": 4,
 "nbformat_minor": 5
}
